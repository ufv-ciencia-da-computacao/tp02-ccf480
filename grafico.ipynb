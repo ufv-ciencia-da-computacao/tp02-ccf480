{
 "cells": [
  {
   "cell_type": "code",
   "execution_count": 18,
   "metadata": {},
   "outputs": [],
   "source": [
    "import pandas as pd\n",
    "import numpy as np\n",
    "import matplotlib.pyplot as plt\n",
    "import seaborn as sns"
   ]
  },
  {
   "cell_type": "code",
   "execution_count": 2,
   "metadata": {},
   "outputs": [],
   "source": [
    "import pickle as pkl"
   ]
  },
  {
   "cell_type": "code",
   "execution_count": 38,
   "metadata": {},
   "outputs": [],
   "source": [
    "with open(\"experimento_func_2_B.pkl\", \"rb\") as f:\n",
    "    data = pkl.load(f)[\"func_2\"]"
   ]
  },
  {
   "cell_type": "code",
   "execution_count": 39,
   "metadata": {},
   "outputs": [
    {
     "name": "stdout",
     "output_type": "stream",
     "text": [
      "[((), -1), ((), -1), ([44.11, 113.47, 61.78, 159.3, 96.82, 137.08, 284.27, 284.82, 299.65, 286.8, 196.59, 369.39, 499.79, 499.99, 167.83, 404.57, 415.1, 236.53, 543.77, 256.85, 549.72, 534.79, 549.98, 549.99, 350.29, 254.54, 149.34, 25.14, 150.0, 91.46, 168.17, 182.82, 176.44, 198.61, 195.52, 196.61, 89.18, 70.33, 110, 548.56], 280786.6852716237), ((), -1), ((), -1), ([71.9, 113.61, 110.0, 188.34, 96.82, 117.01, 223.5, 258.94, 243.71, 226.53, 369.5, 362.19, 414.91, 495.38, 212.76, 413.62, 403.84, 498.47, 545.5, 546.0, 516.41, 545.74, 495.03, 510.33, 484.17, 257.61, 146.7, 113.94, 65.22, 64.0, 98.75, 182.58, 186.65, 90.86, 198.76, 110.96, 59.29, 108.78, 71.02, 280.67], 301666.0196723753), ((), -1), ((), -1), ((), -1), ((), -1), ((), -1), ((), -1), ((), -1), ((), -1), ((), -1), ((), -1), ((), -1), ([36.09, 113.92, 60.05, 80.09, 47.19, 139.86, 299.77, 135.06, 244.02, 248.78, 356.88, 373.72, 500.0, 499.85, 499.51, 495.7, 500.0, 389.66, 242.88, 549.98, 550.0, 492.22, 254.59, 294.63, 408.32, 549.82, 149.82, 149.18, 23.35, 91.6, 189.91, 189.91, 159.71, 117.57, 199.97, 142.56, 110.0, 42.58, 25.24, 546.01], 219880.13653180143), ([76.49, 55.88, 110.07, 137.89, 80.98, 93.98, 215.1, 210.41, 172.25, 271.43, 182.72, 269.73, 433.6, 453.99, 484.25, 428.49, 439.22, 337.14, 394.81, 543.83, 502.01, 539.7, 550, 432.88, 547.32, 411.44, 140.7, 66.21, 140.5, 87.6, 188.45, 189.96, 87.6, 171.98, 140.17, 193.03, 43.38, 78.01, 48.59, 548.21], 263341.44516067515), ((), -1), ([88.61, 57.97, 79.06, 167.6, 48.05, 68.82, 290.05, 263.32, 276.32, 298.96, 370.61, 222.56, 473.59, 494.23, 498.36, 492.04, 474.56, 466.72, 479.07, 312.84, 397.3, 491.33, 544.49, 381.58, 542.04, 514.8, 33.1, 26.5, 126.43, 55.59, 83.72, 87.26, 96.07, 134.43, 182.13, 199.39, 71.61, 60.78, 66.25, 481.86], 277240.58208516275), ([74.03, 103.77, 115.89, 83.05, 61.76, 92.84, 246.21, 159.02, 163.77, 159.5, 284.44, 340.03, 497.35, 485.09, 312.2, 498.19, 418.37, 428.37, 550, 538.11, 314.55, 542.43, 518.37, 518.45, 547.62, 538.64, 102.62, 148.69, 130.68, 49.55, 102.11, 188.69, 69.98, 135.3, 139.71, 167.27, 91.37, 26.02, 25.67, 530.29], 222201.9346996833), ([41.75, 114, 63.21, 80.0, 69.12, 68.0, 294.56, 300, 264.28, 271.84, 265.61, 375, 500, 499.89, 500.0, 338.59, 398.93, 500, 250.89, 550.0, 352.74, 550.0, 338.2, 550.0, 254, 550.0, 124.44, 125.14, 138.03, 87.79, 190.0, 167.94, 168.41, 200.0, 178.0, 120.89, 100.54, 109.81, 104.65, 343.75], 219482.14132768576), ((), -1), ((), -1), ([99.27, 86.62, 112.87, 80.56, 96.92, 136.85, 136.74, 202.95, 269.34, 299.24, 312.53, 370.38, 341.89, 286.29, 467.13, 495.31, 482.56, 364.24, 514.09, 543.95, 494.52, 533.7, 548.38, 498.1, 540.43, 296.78, 76.33, 138.26, 146.87, 94.62, 135.64, 183.58, 126.54, 92.27, 186.85, 193.1, 28.93, 41.6, 108.48, 335.29], 218126.56187532164), ((), -1), ((), -1), ((), -1), ((), -1)]\n"
     ]
    }
   ],
   "source": [
    "print(data)"
   ]
  },
  {
   "cell_type": "code",
   "execution_count": 41,
   "metadata": {},
   "outputs": [
    {
     "name": "stdout",
     "output_type": "stream",
     "text": [
      "([44.11, 113.47, 61.78, 159.3, 96.82, 137.08, 284.27, 284.82, 299.65, 286.8, 196.59, 369.39, 499.79, 499.99, 167.83, 404.57, 415.1, 236.53, 543.77, 256.85, 549.72, 534.79, 549.98, 549.99, 350.29, 254.54, 149.34, 25.14, 150.0, 91.46, 168.17, 182.82, 176.44, 198.61, 195.52, 196.61, 89.18, 70.33, 110, 548.56], 280786.6852716237)\n",
      "([71.9, 113.61, 110.0, 188.34, 96.82, 117.01, 223.5, 258.94, 243.71, 226.53, 369.5, 362.19, 414.91, 495.38, 212.76, 413.62, 403.84, 498.47, 545.5, 546.0, 516.41, 545.74, 495.03, 510.33, 484.17, 257.61, 146.7, 113.94, 65.22, 64.0, 98.75, 182.58, 186.65, 90.86, 198.76, 110.96, 59.29, 108.78, 71.02, 280.67], 301666.0196723753)\n",
      "([36.09, 113.92, 60.05, 80.09, 47.19, 139.86, 299.77, 135.06, 244.02, 248.78, 356.88, 373.72, 500.0, 499.85, 499.51, 495.7, 500.0, 389.66, 242.88, 549.98, 550.0, 492.22, 254.59, 294.63, 408.32, 549.82, 149.82, 149.18, 23.35, 91.6, 189.91, 189.91, 159.71, 117.57, 199.97, 142.56, 110.0, 42.58, 25.24, 546.01], 219880.13653180143)\n",
      "([76.49, 55.88, 110.07, 137.89, 80.98, 93.98, 215.1, 210.41, 172.25, 271.43, 182.72, 269.73, 433.6, 453.99, 484.25, 428.49, 439.22, 337.14, 394.81, 543.83, 502.01, 539.7, 550, 432.88, 547.32, 411.44, 140.7, 66.21, 140.5, 87.6, 188.45, 189.96, 87.6, 171.98, 140.17, 193.03, 43.38, 78.01, 48.59, 548.21], 263341.44516067515)\n",
      "([88.61, 57.97, 79.06, 167.6, 48.05, 68.82, 290.05, 263.32, 276.32, 298.96, 370.61, 222.56, 473.59, 494.23, 498.36, 492.04, 474.56, 466.72, 479.07, 312.84, 397.3, 491.33, 544.49, 381.58, 542.04, 514.8, 33.1, 26.5, 126.43, 55.59, 83.72, 87.26, 96.07, 134.43, 182.13, 199.39, 71.61, 60.78, 66.25, 481.86], 277240.58208516275)\n",
      "([74.03, 103.77, 115.89, 83.05, 61.76, 92.84, 246.21, 159.02, 163.77, 159.5, 284.44, 340.03, 497.35, 485.09, 312.2, 498.19, 418.37, 428.37, 550, 538.11, 314.55, 542.43, 518.37, 518.45, 547.62, 538.64, 102.62, 148.69, 130.68, 49.55, 102.11, 188.69, 69.98, 135.3, 139.71, 167.27, 91.37, 26.02, 25.67, 530.29], 222201.9346996833)\n",
      "([41.75, 114, 63.21, 80.0, 69.12, 68.0, 294.56, 300, 264.28, 271.84, 265.61, 375, 500, 499.89, 500.0, 338.59, 398.93, 500, 250.89, 550.0, 352.74, 550.0, 338.2, 550.0, 254, 550.0, 124.44, 125.14, 138.03, 87.79, 190.0, 167.94, 168.41, 200.0, 178.0, 120.89, 100.54, 109.81, 104.65, 343.75], 219482.14132768576)\n",
      "([99.27, 86.62, 112.87, 80.56, 96.92, 136.85, 136.74, 202.95, 269.34, 299.24, 312.53, 370.38, 341.89, 286.29, 467.13, 495.31, 482.56, 364.24, 514.09, 543.95, 494.52, 533.7, 548.38, 498.1, 540.43, 296.78, 76.33, 138.26, 146.87, 94.62, 135.64, 183.58, 126.54, 92.27, 186.85, 193.1, 28.93, 41.6, 108.48, 335.29], 218126.56187532164)\n"
     ]
    }
   ],
   "source": [
    "arr = []\n",
    "decision_variables = []\n",
    "for x in data:\n",
    "    if x[1] != -1:\n",
    "        arr.append(x[1])\n",
    "        decision_variables.append(x[0])\n",
    "        print(x)"
   ]
  },
  {
   "cell_type": "code",
   "execution_count": 42,
   "metadata": {},
   "outputs": [],
   "source": [
    "df = pd.DataFrame(data=np.array(arr), columns=[\"funcao 2\"])"
   ]
  },
  {
   "cell_type": "code",
   "execution_count": 43,
   "metadata": {},
   "outputs": [
    {
     "data": {
      "text/html": [
       "<div>\n",
       "<style scoped>\n",
       "    .dataframe tbody tr th:only-of-type {\n",
       "        vertical-align: middle;\n",
       "    }\n",
       "\n",
       "    .dataframe tbody tr th {\n",
       "        vertical-align: top;\n",
       "    }\n",
       "\n",
       "    .dataframe thead th {\n",
       "        text-align: right;\n",
       "    }\n",
       "</style>\n",
       "<table border=\"1\" class=\"dataframe\">\n",
       "  <thead>\n",
       "    <tr style=\"text-align: right;\">\n",
       "      <th></th>\n",
       "      <th>funcao 2</th>\n",
       "    </tr>\n",
       "  </thead>\n",
       "  <tbody>\n",
       "    <tr>\n",
       "      <th>7</th>\n",
       "      <td>218126.561875</td>\n",
       "    </tr>\n",
       "    <tr>\n",
       "      <th>6</th>\n",
       "      <td>219482.141328</td>\n",
       "    </tr>\n",
       "    <tr>\n",
       "      <th>2</th>\n",
       "      <td>219880.136532</td>\n",
       "    </tr>\n",
       "    <tr>\n",
       "      <th>5</th>\n",
       "      <td>222201.934700</td>\n",
       "    </tr>\n",
       "    <tr>\n",
       "      <th>3</th>\n",
       "      <td>263341.445161</td>\n",
       "    </tr>\n",
       "    <tr>\n",
       "      <th>4</th>\n",
       "      <td>277240.582085</td>\n",
       "    </tr>\n",
       "    <tr>\n",
       "      <th>0</th>\n",
       "      <td>280786.685272</td>\n",
       "    </tr>\n",
       "    <tr>\n",
       "      <th>1</th>\n",
       "      <td>301666.019672</td>\n",
       "    </tr>\n",
       "  </tbody>\n",
       "</table>\n",
       "</div>"
      ],
      "text/plain": [
       "        funcao 2\n",
       "7  218126.561875\n",
       "6  219482.141328\n",
       "2  219880.136532\n",
       "5  222201.934700\n",
       "3  263341.445161\n",
       "4  277240.582085\n",
       "0  280786.685272\n",
       "1  301666.019672"
      ]
     },
     "execution_count": 43,
     "metadata": {},
     "output_type": "execute_result"
    }
   ],
   "source": [
    "df.sort_values(by=\"funcao 2\")"
   ]
  },
  {
   "cell_type": "code",
   "execution_count": 44,
   "metadata": {},
   "outputs": [
    {
     "data": {
      "text/html": [
       "<div>\n",
       "<style scoped>\n",
       "    .dataframe tbody tr th:only-of-type {\n",
       "        vertical-align: middle;\n",
       "    }\n",
       "\n",
       "    .dataframe tbody tr th {\n",
       "        vertical-align: top;\n",
       "    }\n",
       "\n",
       "    .dataframe thead th {\n",
       "        text-align: right;\n",
       "    }\n",
       "</style>\n",
       "<table border=\"1\" class=\"dataframe\">\n",
       "  <thead>\n",
       "    <tr style=\"text-align: right;\">\n",
       "      <th></th>\n",
       "      <th>funcao 2</th>\n",
       "    </tr>\n",
       "  </thead>\n",
       "  <tbody>\n",
       "    <tr>\n",
       "      <th>count</th>\n",
       "      <td>8.000000</td>\n",
       "    </tr>\n",
       "    <tr>\n",
       "      <th>mean</th>\n",
       "      <td>250340.688328</td>\n",
       "    </tr>\n",
       "    <tr>\n",
       "      <th>std</th>\n",
       "      <td>34149.894096</td>\n",
       "    </tr>\n",
       "    <tr>\n",
       "      <th>min</th>\n",
       "      <td>218126.561875</td>\n",
       "    </tr>\n",
       "    <tr>\n",
       "      <th>25%</th>\n",
       "      <td>219780.637731</td>\n",
       "    </tr>\n",
       "    <tr>\n",
       "      <th>50%</th>\n",
       "      <td>242771.689930</td>\n",
       "    </tr>\n",
       "    <tr>\n",
       "      <th>75%</th>\n",
       "      <td>278127.107882</td>\n",
       "    </tr>\n",
       "    <tr>\n",
       "      <th>max</th>\n",
       "      <td>301666.019672</td>\n",
       "    </tr>\n",
       "  </tbody>\n",
       "</table>\n",
       "</div>"
      ],
      "text/plain": [
       "            funcao 2\n",
       "count       8.000000\n",
       "mean   250340.688328\n",
       "std     34149.894096\n",
       "min    218126.561875\n",
       "25%    219780.637731\n",
       "50%    242771.689930\n",
       "75%    278127.107882\n",
       "max    301666.019672"
      ]
     },
     "execution_count": 44,
     "metadata": {},
     "output_type": "execute_result"
    }
   ],
   "source": [
    "df.describe()\n"
   ]
  },
  {
   "cell_type": "code",
   "execution_count": 45,
   "metadata": {},
   "outputs": [
    {
     "data": {
      "image/png": "[encoded data removed]",
      "text/plain": [
       "<Figure size 360x720 with 1 Axes>"
      ]
     },
     "metadata": {},
     "output_type": "display_data"
    }
   ],
   "source": [
    "plt.rcParams.update({'font.size': 20})\n",
    "sns.set()\n",
    "fig = plt.figure(figsize=(5,10))\n",
    "ax = fig.add_subplot()\n",
    "g = sns.boxplot(y = \"funcao 2\", data=df, ax=ax)\n",
    "plt.xlabel(\"\", fontweight=\"bold\")\n",
    "plt.ylabel(\"Valor Mínimo\", fontweight=\"bold\")\n",
    "plt.savefig('funcao_2_B.png', format='png',dpi = 300, bbox_inches='tight',)"
   ]
  },
  {
   "cell_type": "code",
   "execution_count": null,
   "metadata": {},
   "outputs": [],
   "source": []
  }
 ],
 "metadata": {
  "kernelspec": {
   "display_name": "Python 3.9.7 ('base')",
   "language": "python",
   "name": "python3"
  },
  "language_info": {
   "codemirror_mode": {
    "name": "ipython",
    "version": 3
   },
   "file_extension": ".py",
   "mimetype": "text/x-python",
   "name": "python",
   "nbconvert_exporter": "python",
   "pygments_lexer": "ipython3",
   "version": "3.9.7"
  },
  "orig_nbformat": 4,
  "vscode": {
   "interpreter": {
    "hash": "7e1bc1bfc26bcf9f1a91a6957e40b4112686d2b5d554625b95755bade356a78f"
   }
  }
 },
 "nbformat": 4,
 "nbformat_minor": 2
}
